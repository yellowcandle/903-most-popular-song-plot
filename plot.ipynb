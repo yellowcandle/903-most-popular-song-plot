{
 "cells": [
  {
   "cell_type": "code",
   "execution_count": 1,
   "id": "d7c57993a21f7416",
   "metadata": {
    "collapsed": false
   },
   "outputs": [
    {
     "name": "stdout",
     "output_type": "stream",
     "text": [
      "Requirement already satisfied: pandas in /Users/swong/.pyenv/versions/3.12.2/lib/python3.12/site-packages (2.2.2)\n",
      "Requirement already satisfied: numpy>=1.26.0 in /Users/swong/.pyenv/versions/3.12.2/lib/python3.12/site-packages (from pandas) (1.26.4)\n",
      "Requirement already satisfied: python-dateutil>=2.8.2 in /Users/swong/.pyenv/versions/3.12.2/lib/python3.12/site-packages (from pandas) (2.9.0.post0)\n",
      "Requirement already satisfied: pytz>=2020.1 in /Users/swong/.pyenv/versions/3.12.2/lib/python3.12/site-packages (from pandas) (2024.1)\n",
      "Requirement already satisfied: tzdata>=2022.7 in /Users/swong/.pyenv/versions/3.12.2/lib/python3.12/site-packages (from pandas) (2024.1)\n",
      "Requirement already satisfied: six>=1.5 in /Users/swong/.pyenv/versions/3.12.2/lib/python3.12/site-packages (from python-dateutil>=2.8.2->pandas) (1.17.0)\n",
      "Note: you may need to restart the kernel to use updated packages.\n",
      "Requirement already satisfied: numpy in /Users/swong/.pyenv/versions/3.12.2/lib/python3.12/site-packages (1.26.4)\n",
      "Note: you may need to restart the kernel to use updated packages.\n",
      "Requirement already satisfied: matplotlib in /Users/swong/.pyenv/versions/3.12.2/lib/python3.12/site-packages (3.8.4)\n",
      "Requirement already satisfied: contourpy>=1.0.1 in /Users/swong/.pyenv/versions/3.12.2/lib/python3.12/site-packages (from matplotlib) (1.2.1)\n",
      "Requirement already satisfied: cycler>=0.10 in /Users/swong/.pyenv/versions/3.12.2/lib/python3.12/site-packages (from matplotlib) (0.12.1)\n",
      "Requirement already satisfied: fonttools>=4.22.0 in /Users/swong/.pyenv/versions/3.12.2/lib/python3.12/site-packages (from matplotlib) (4.51.0)\n",
      "Requirement already satisfied: kiwisolver>=1.3.1 in /Users/swong/.pyenv/versions/3.12.2/lib/python3.12/site-packages (from matplotlib) (1.4.5)\n",
      "Requirement already satisfied: numpy>=1.21 in /Users/swong/.pyenv/versions/3.12.2/lib/python3.12/site-packages (from matplotlib) (1.26.4)\n",
      "Requirement already satisfied: packaging>=20.0 in /Users/swong/.pyenv/versions/3.12.2/lib/python3.12/site-packages (from matplotlib) (24.2)\n",
      "Requirement already satisfied: pillow>=8 in /Users/swong/.pyenv/versions/3.12.2/lib/python3.12/site-packages (from matplotlib) (10.4.0)\n",
      "Requirement already satisfied: pyparsing>=2.3.1 in /Users/swong/.pyenv/versions/3.12.2/lib/python3.12/site-packages (from matplotlib) (3.1.2)\n",
      "Requirement already satisfied: python-dateutil>=2.7 in /Users/swong/.pyenv/versions/3.12.2/lib/python3.12/site-packages (from matplotlib) (2.9.0.post0)\n",
      "Requirement already satisfied: six>=1.5 in /Users/swong/.pyenv/versions/3.12.2/lib/python3.12/site-packages (from python-dateutil>=2.7->matplotlib) (1.17.0)\n",
      "Note: you may need to restart the kernel to use updated packages.\n",
      "Requirement already satisfied: seaborn in /Users/swong/.pyenv/versions/3.12.2/lib/python3.12/site-packages (0.13.2)\n",
      "Requirement already satisfied: numpy!=1.24.0,>=1.20 in /Users/swong/.pyenv/versions/3.12.2/lib/python3.12/site-packages (from seaborn) (1.26.4)\n",
      "Requirement already satisfied: pandas>=1.2 in /Users/swong/.pyenv/versions/3.12.2/lib/python3.12/site-packages (from seaborn) (2.2.2)\n",
      "Requirement already satisfied: matplotlib!=3.6.1,>=3.4 in /Users/swong/.pyenv/versions/3.12.2/lib/python3.12/site-packages (from seaborn) (3.8.4)\n",
      "Requirement already satisfied: contourpy>=1.0.1 in /Users/swong/.pyenv/versions/3.12.2/lib/python3.12/site-packages (from matplotlib!=3.6.1,>=3.4->seaborn) (1.2.1)\n",
      "Requirement already satisfied: cycler>=0.10 in /Users/swong/.pyenv/versions/3.12.2/lib/python3.12/site-packages (from matplotlib!=3.6.1,>=3.4->seaborn) (0.12.1)\n",
      "Requirement already satisfied: fonttools>=4.22.0 in /Users/swong/.pyenv/versions/3.12.2/lib/python3.12/site-packages (from matplotlib!=3.6.1,>=3.4->seaborn) (4.51.0)\n",
      "Requirement already satisfied: kiwisolver>=1.3.1 in /Users/swong/.pyenv/versions/3.12.2/lib/python3.12/site-packages (from matplotlib!=3.6.1,>=3.4->seaborn) (1.4.5)\n",
      "Requirement already satisfied: packaging>=20.0 in /Users/swong/.pyenv/versions/3.12.2/lib/python3.12/site-packages (from matplotlib!=3.6.1,>=3.4->seaborn) (24.2)\n",
      "Requirement already satisfied: pillow>=8 in /Users/swong/.pyenv/versions/3.12.2/lib/python3.12/site-packages (from matplotlib!=3.6.1,>=3.4->seaborn) (10.4.0)\n",
      "Requirement already satisfied: pyparsing>=2.3.1 in /Users/swong/.pyenv/versions/3.12.2/lib/python3.12/site-packages (from matplotlib!=3.6.1,>=3.4->seaborn) (3.1.2)\n",
      "Requirement already satisfied: python-dateutil>=2.7 in /Users/swong/.pyenv/versions/3.12.2/lib/python3.12/site-packages (from matplotlib!=3.6.1,>=3.4->seaborn) (2.9.0.post0)\n",
      "Requirement already satisfied: pytz>=2020.1 in /Users/swong/.pyenv/versions/3.12.2/lib/python3.12/site-packages (from pandas>=1.2->seaborn) (2024.1)\n",
      "Requirement already satisfied: tzdata>=2022.7 in /Users/swong/.pyenv/versions/3.12.2/lib/python3.12/site-packages (from pandas>=1.2->seaborn) (2024.1)\n",
      "Requirement already satisfied: six>=1.5 in /Users/swong/.pyenv/versions/3.12.2/lib/python3.12/site-packages (from python-dateutil>=2.7->matplotlib!=3.6.1,>=3.4->seaborn) (1.17.0)\n",
      "Note: you may need to restart the kernel to use updated packages.\n",
      "Requirement already satisfied: google-api-python-client in /Users/swong/.pyenv/versions/3.12.2/lib/python3.12/site-packages (2.127.0)\n",
      "Requirement already satisfied: httplib2<1.dev0,>=0.19.0 in /Users/swong/.pyenv/versions/3.12.2/lib/python3.12/site-packages (from google-api-python-client) (0.22.0)\n",
      "Requirement already satisfied: google-auth!=2.24.0,!=2.25.0,<3.0.0.dev0,>=1.32.0 in /Users/swong/.pyenv/versions/3.12.2/lib/python3.12/site-packages (from google-api-python-client) (2.29.0)\n",
      "Requirement already satisfied: google-auth-httplib2<1.0.0,>=0.2.0 in /Users/swong/.pyenv/versions/3.12.2/lib/python3.12/site-packages (from google-api-python-client) (0.2.0)\n",
      "Requirement already satisfied: google-api-core!=2.0.*,!=2.1.*,!=2.2.*,!=2.3.0,<3.0.0.dev0,>=1.31.5 in /Users/swong/.pyenv/versions/3.12.2/lib/python3.12/site-packages (from google-api-python-client) (2.19.0)\n",
      "Requirement already satisfied: uritemplate<5,>=3.0.1 in /Users/swong/.pyenv/versions/3.12.2/lib/python3.12/site-packages (from google-api-python-client) (4.1.1)\n",
      "Requirement already satisfied: googleapis-common-protos<2.0.dev0,>=1.56.2 in /Users/swong/.pyenv/versions/3.12.2/lib/python3.12/site-packages (from google-api-core!=2.0.*,!=2.1.*,!=2.2.*,!=2.3.0,<3.0.0.dev0,>=1.31.5->google-api-python-client) (1.63.0)\n",
      "Requirement already satisfied: protobuf!=3.20.0,!=3.20.1,!=4.21.0,!=4.21.1,!=4.21.2,!=4.21.3,!=4.21.4,!=4.21.5,<5.0.0.dev0,>=3.19.5 in /Users/swong/.pyenv/versions/3.12.2/lib/python3.12/site-packages (from google-api-core!=2.0.*,!=2.1.*,!=2.2.*,!=2.3.0,<3.0.0.dev0,>=1.31.5->google-api-python-client) (4.25.3)\n",
      "Requirement already satisfied: proto-plus<2.0.0dev,>=1.22.3 in /Users/swong/.pyenv/versions/3.12.2/lib/python3.12/site-packages (from google-api-core!=2.0.*,!=2.1.*,!=2.2.*,!=2.3.0,<3.0.0.dev0,>=1.31.5->google-api-python-client) (1.23.0)\n",
      "Requirement already satisfied: requests<3.0.0.dev0,>=2.18.0 in /Users/swong/.pyenv/versions/3.12.2/lib/python3.12/site-packages (from google-api-core!=2.0.*,!=2.1.*,!=2.2.*,!=2.3.0,<3.0.0.dev0,>=1.31.5->google-api-python-client) (2.32.3)\n",
      "Requirement already satisfied: cachetools<6.0,>=2.0.0 in /Users/swong/.pyenv/versions/3.12.2/lib/python3.12/site-packages (from google-auth!=2.24.0,!=2.25.0,<3.0.0.dev0,>=1.32.0->google-api-python-client) (5.3.3)\n",
      "Requirement already satisfied: pyasn1-modules>=0.2.1 in /Users/swong/.pyenv/versions/3.12.2/lib/python3.12/site-packages (from google-auth!=2.24.0,!=2.25.0,<3.0.0.dev0,>=1.32.0->google-api-python-client) (0.4.0)\n",
      "Requirement already satisfied: rsa<5,>=3.1.4 in /Users/swong/.pyenv/versions/3.12.2/lib/python3.12/site-packages (from google-auth!=2.24.0,!=2.25.0,<3.0.0.dev0,>=1.32.0->google-api-python-client) (4.9)\n",
      "Requirement already satisfied: pyparsing!=3.0.0,!=3.0.1,!=3.0.2,!=3.0.3,<4,>=2.4.2 in /Users/swong/.pyenv/versions/3.12.2/lib/python3.12/site-packages (from httplib2<1.dev0,>=0.19.0->google-api-python-client) (3.1.2)\n",
      "Requirement already satisfied: pyasn1<0.7.0,>=0.4.6 in /Users/swong/.pyenv/versions/3.12.2/lib/python3.12/site-packages (from pyasn1-modules>=0.2.1->google-auth!=2.24.0,!=2.25.0,<3.0.0.dev0,>=1.32.0->google-api-python-client) (0.6.0)\n",
      "Requirement already satisfied: charset-normalizer<4,>=2 in /Users/swong/.pyenv/versions/3.12.2/lib/python3.12/site-packages (from requests<3.0.0.dev0,>=2.18.0->google-api-core!=2.0.*,!=2.1.*,!=2.2.*,!=2.3.0,<3.0.0.dev0,>=1.31.5->google-api-python-client) (3.4.0)\n",
      "Requirement already satisfied: idna<4,>=2.5 in /Users/swong/.pyenv/versions/3.12.2/lib/python3.12/site-packages (from requests<3.0.0.dev0,>=2.18.0->google-api-core!=2.0.*,!=2.1.*,!=2.2.*,!=2.3.0,<3.0.0.dev0,>=1.31.5->google-api-python-client) (3.10)\n",
      "Requirement already satisfied: urllib3<3,>=1.21.1 in /Users/swong/.pyenv/versions/3.12.2/lib/python3.12/site-packages (from requests<3.0.0.dev0,>=2.18.0->google-api-core!=2.0.*,!=2.1.*,!=2.2.*,!=2.3.0,<3.0.0.dev0,>=1.31.5->google-api-python-client) (2.2.3)\n",
      "Requirement already satisfied: certifi>=2017.4.17 in /Users/swong/.pyenv/versions/3.12.2/lib/python3.12/site-packages (from requests<3.0.0.dev0,>=2.18.0->google-api-core!=2.0.*,!=2.1.*,!=2.2.*,!=2.3.0,<3.0.0.dev0,>=1.31.5->google-api-python-client) (2024.8.30)\n",
      "Note: you may need to restart the kernel to use updated packages.\n",
      "Requirement already satisfied: datetime in /Users/swong/.pyenv/versions/3.12.2/lib/python3.12/site-packages (5.5)\n",
      "Requirement already satisfied: zope.interface in /Users/swong/.pyenv/versions/3.12.2/lib/python3.12/site-packages (from datetime) (7.2)\n",
      "Requirement already satisfied: pytz in /Users/swong/.pyenv/versions/3.12.2/lib/python3.12/site-packages (from datetime) (2024.1)\n",
      "Requirement already satisfied: setuptools in /Users/swong/.pyenv/versions/3.12.2/lib/python3.12/site-packages (from zope.interface->datetime) (69.2.0)\n",
      "Note: you may need to restart the kernel to use updated packages.\n",
      "Requirement already satisfied: python-dotenv in /Users/swong/.pyenv/versions/3.12.2/lib/python3.12/site-packages (1.0.1)\n",
      "Note: you may need to restart the kernel to use updated packages.\n",
      "\u001b[31mERROR: Could not find a version that satisfies the requirement os (from versions: none)\u001b[0m\u001b[31m\n",
      "\u001b[0m\u001b[31mERROR: No matching distribution found for os\u001b[0m\u001b[31m\n",
      "\u001b[0mNote: you may need to restart the kernel to use updated packages.\n"
     ]
    }
   ],
   "source": [
    "%pip install pandas\n",
    "%pip install numpy\n",
    "%pip install matplotlib\n",
    "%pip install seaborn\n",
    "%pip install google-api-python-client\n",
    "%pip install datetime\n",
    "%pip install python-dotenv\n",
    "%pip install os\n"
   ]
  },
  {
   "cell_type": "code",
   "execution_count": 2,
   "id": "e8dfbf391a7a8ed7",
   "metadata": {
    "ExecuteTime": {
     "end_time": "2024-01-02T13:31:51.373572Z",
     "start_time": "2024-01-02T13:31:51.370584Z"
    },
    "collapsed": false
   },
   "outputs": [],
   "source": [
    "# Import library\n",
    "import pandas as pd\n",
    "import numpy as np\n",
    "import matplotlib.pyplot as plt\n",
    "import seaborn as sns\n",
    "from googleapiclient.discovery import build\n",
    "from datetime import datetime\n",
    "\n",
    "sns.set()\n"
   ]
  },
  {
   "cell_type": "code",
   "execution_count": null,
   "id": "de540bab",
   "metadata": {},
   "outputs": [],
   "source": [
    "# initialize youtube data api\n",
    "\n",
    "def get_video_stats(video_id):\n",
    "    \"\"\"\n",
    "    Fetch video statistics from YouTube Data API v3.\n",
    "    \n",
    "    Args:\n",
    "        video_id (str): YouTube video ID (e.g., 'dQw4w9WgXcQ' from https://www.youtube.com/watch?v=dQw4w9WgXcQ)\n",
    "    \n",
    "    Returns:\n",
    "        tuple: (view_count, upload_date) where:\n",
    "            - view_count (int): Number of views\n",
    "            - upload_date (str): Video upload date in YYYY-MM-DD format\n",
    "    \"\"\"\n",
    "    # API credentials\n",
    "    API_KEY = os.getenv('YOUTUBE_API_KEY')\n",
    "    \n",
    "    try:\n",
    "        # Create YouTube API client\n",
    "        youtube = build('youtube', 'v3', developerKey=API_KEY)\n",
    "        \n",
    "        # Request video details\n",
    "        request = youtube.videos().list(\n",
    "            part='statistics,snippet',\n",
    "            id=video_id\n",
    "        )\n",
    "        response = request.execute()\n",
    "        \n",
    "        # Check if video exists\n",
    "        if not response['items']:\n",
    "            raise ValueError(f\"No video found with ID: {video_id}\")\n",
    "        \n",
    "        # Extract data\n",
    "        video_data = response['items'][0]\n",
    "        view_count = int(video_data['statistics']['viewCount'])\n",
    "        upload_date = video_data['snippet']['publishedAt'][:10]  # Get YYYY-MM-DD format\n",
    "        \n",
    "        return view_count, upload_date\n",
    "        \n",
    "    except Exception as e:\n",
    "        print(f\"Error fetching video data: {str(e)}\")\n",
    "        return None, None\n",
    "\n",
    "# Example usage\n",
    "if __name__ == \"__main__\":\n",
    "    df = pd.read_csv('data.csv',skipinitialspace=True)\n",
    "    video_id = df.iloc[0]['video_id']\n",
    "    views, date = get_video_stats(video_id)\n",
    "    \n",
    "    if views and date:\n",
    "        print(f\"Views as of {datetime.now().strftime('%Y-%m-%d')}: {views}\")\n",
    "        print(f\"Upload Date: {date}\")\n",
    "        print(f\"Views per day as of {datetime.now().strftime('%Y-%m-%d')}: {round(views / (datetime.now() - datetime.strptime(date, '%Y-%m-%d')).days)}\")\n"
   ]
  },
  {
   "cell_type": "code",
   "execution_count": 20,
   "id": "c96e6dd2e2d696fb",
   "metadata": {
    "ExecuteTime": {
     "end_time": "2024-01-02T13:31:51.545771Z",
     "start_time": "2024-01-02T13:31:51.543117Z"
    },
    "collapsed": false
   },
   "outputs": [],
   "source": [
    "import matplotlib\n",
    "import matplotlib.font_manager as fm\n",
    "matplotlib.rc('font', family='PingFang HK')"
   ]
  },
  {
   "cell_type": "code",
   "execution_count": null,
   "id": "45c72032",
   "metadata": {},
   "outputs": [],
   "source": [
    "df = pd.read_csv('data.csv',skipinitialspace=True)\n",
    "df"
   ]
  },
  {
   "cell_type": "code",
   "execution_count": null,
   "id": "e7e95afa1f8a89d6",
   "metadata": {
    "ExecuteTime": {
     "end_time": "2024-01-02T13:31:51.951373Z",
     "start_time": "2024-01-02T13:31:51.948953Z"
    },
    "collapsed": false
   },
   "outputs": [],
   "source": [
    "# Create a pandas DataFrame from the rows and columns\n",
    "# Read data from CSV file\n",
    "\n",
    "\n",
    "# Split into 2023 and 2024 dataframes based on Year column\n",
    "df2023 = df[df['Year'] == '2023'].reset_index(drop=True)\n",
    "df2024 = df[df['Year'] == '2024'].reset_index(drop=True)\n",
    "\n",
    "# Select only the required columns to match original format\n",
    "columns = [\"Title\", \"Year\", \"Artist\", \"Zone A\", \"Zone B\", \"Zone C\", \"Zone D\", \"Total\"]\n",
    "df2023 = df2023[columns]\n",
    "df2024 = df2024[columns]\n"
   ]
  },
  {
   "cell_type": "code",
   "execution_count": null,
   "id": "829266edd5dda45d",
   "metadata": {
    "ExecuteTime": {
     "end_time": "2024-01-02T13:31:52.435786Z",
     "start_time": "2024-01-02T13:31:52.431940Z"
    },
    "collapsed": false
   },
   "outputs": [],
   "source": [
    "# Print the DataFrame\n",
    "df2023\n"
   ]
  },
  {
   "cell_type": "code",
   "execution_count": null,
   "id": "af70e5ad",
   "metadata": {},
   "outputs": [],
   "source": [
    "df2024"
   ]
  },
  {
   "cell_type": "code",
   "execution_count": null,
   "id": "ff949eace1258ca",
   "metadata": {
    "ExecuteTime": {
     "end_time": "2024-01-02T13:31:53.426027Z",
     "start_time": "2024-01-02T13:31:53.422517Z"
    },
    "collapsed": false
   },
   "outputs": [],
   "source": [
    "df_zone2023 = df2023[[\"Title\", \"Artist\", \"Zone A\", \"Zone B\", \"Zone C\", \"Zone D\"]]\n",
    "df_zone2024 = df2024[[\"Title\", \"Artist\", \"Zone A\", \"Zone B\", \"Zone C\", \"Zone D\"]]\n",
    "\n",
    "# Create a list of column names\n",
    "columns = [\"Title\", \"Artist\", \"Zone A\", \"Zone B\", \"Zone C\", \"Zone D\", \"Total\"]\n",
    "\n",
    "# Create a list of row values\n",
    "df_zone2324 = [\n",
    "    [\"《Money》\", \"盧瀚霆\", 314, 692, 785, 211, 2002],\n",
    "    [\"《Hey Hey OK!》\", \"盧瀚霆\", 671, 837, 523, 344, 2375],\n",
    "    [\"《再見 寧靜海》\", \"陳卓賢\", 206, 180, 253, 291, 930],\n",
    "    [\"《以孤獨命名》\", \"陳卓賢\", 314, 205, 232, 264, 1015],\n",
    "    [\"《濤》\", \"姜濤\", 915, 1926, 1517, 697, 5055],\n",
    "    [\"《好得太過份》\", \"姜濤\", 844, 1779, 1444, 740, 4807],\n",
    "    [\"《E先生 愛人執照》\", \"呂爵安\", 117, 96, 96, 120, 429],\n",
    "    [\"《隱形遊樂場》\", \"張敬軒\", 571, 478, 419, 783, 2251],\n",
    "    [\"《黑玻璃》\", \"洪嘉豪\", 361, 221, 234, 458, 1274],\n",
    "    [\"《普波眾生》\", \"林家謙\", 319, 205, 181, 385, 1090]\n",
    "]\n",
    "\n",
    "# Create a pandas DataFrame from the rows and columns\n",
    "df_zone2324 = pd.DataFrame(df_zone2324, columns=columns)"
   ]
  },
  {
   "cell_type": "code",
   "execution_count": null,
   "id": "b61e57e2",
   "metadata": {},
   "outputs": [],
   "source": [
    "df_zone2324"
   ]
  },
  {
   "cell_type": "code",
   "execution_count": null,
   "id": "0b04b7b3",
   "metadata": {},
   "outputs": [],
   "source": [
    "df_zone2023"
   ]
  },
  {
   "cell_type": "code",
   "execution_count": null,
   "id": "c7ff58ca",
   "metadata": {},
   "outputs": [],
   "source": [
    "df_zone2024"
   ]
  },
  {
   "cell_type": "code",
   "execution_count": null,
   "id": "cbd823e5be4ca083",
   "metadata": {
    "ExecuteTime": {
     "end_time": "2024-01-02T13:31:54.257913Z",
     "start_time": "2024-01-02T13:31:54.139756Z"
    },
    "collapsed": false
   },
   "outputs": [],
   "source": [
    "plot2023 = df_zone2023.set_index('Title').plot(kind=\"barh\", stacked=True)\n",
    "plot2023.set_title(\"2023 年叱吒我最喜愛歌曲各區票數\")\n",
    "plot2023.set_xlabel(\"票數\")\n",
    "plot2023.set_ylabel(\"歌曲\")\n",
    "plot2023.legend(loc='center left', bbox_to_anchor=(1.0, 0.5))\n",
    "fig2023 = plot2023.get_figure()\n",
    "\n",
    "plot2024 = df_zone2024.set_index('Title').plot(kind=\"barh\", stacked=True)\n",
    "plot2024.set_title(\"2024 年叱吒我最喜愛歌曲各區票數\")\n",
    "plot2024.set_xlabel(\"票數\")\n",
    "plot2024.set_ylabel(\"歌曲\")\n",
    "plot2024.legend(loc='center left', bbox_to_anchor=(1.0, 0.5))\n",
    "fig2024 = plot2024.get_figure()\n"
   ]
  }
 ],
 "metadata": {
  "kernelspec": {
   "display_name": "Python 3",
   "language": "python",
   "name": "python3"
  },
  "language_info": {
   "codemirror_mode": {
    "name": "ipython",
    "version": 3
   },
   "file_extension": ".py",
   "mimetype": "text/x-python",
   "name": "python",
   "nbconvert_exporter": "python",
   "pygments_lexer": "ipython3",
   "version": "3.12.2"
  }
 },
 "nbformat": 4,
 "nbformat_minor": 5
}
